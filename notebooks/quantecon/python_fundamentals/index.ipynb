{
 "cells": [
  {
   "cell_type": "markdown",
   "metadata": {},
   "source": [
    "# Python Fundamentals\n",
    "\n",
    "In this section, we begin with the basics.\n",
    "\n",
    "We will talk about what a programming language is and how computers use\n",
    "them to perform operations.\n",
    "\n",
    "We discuss why we chose the Python language for this course.\n",
    "\n",
    "We learn about core concepts like variables, data-types, and\n",
    "functions.\n",
    "\n",
    "We will become familiar with the core data-types built into Python,\n",
    "some standard functions we will frequently use, and learn how to define our own functions.\n",
    "\n",
    "By the end, you should have a solid grasp on core Python\n",
    "concepts, be prepared to study the next sections on numerical programming,\n",
    "and feel comfortable handling data.\n",
    "\n",
    "<div class=\"toctree\">\n",
    "\n",
    "- [Basics](basics.ipynb)\n",
    "  - [First Steps](basics.ipynb#first-steps)\n",
    "  - [Functions](basics.ipynb#functions)\n",
    "  - [Objects and Types](basics.ipynb#objects-and-types)\n",
    "  - [Modules](basics.ipynb#modules)\n",
    "  - [Good Code Habits](basics.ipynb#good-code-habits)\n",
    "  - [Numbers](basics.ipynb#numbers)\n",
    "  - [Strings](basics.ipynb#strings)\n",
    "  - [Booleans](basics.ipynb#booleans)\n",
    "  - [Exercises](basics.ipynb#exercises)\n",
    "- [Collections](collections.ipynb)\n",
    "  - [Ordered Collections](collections.ipynb#ordered-collections)\n",
    "  - [Associative Collections](collections.ipynb#associative-collections)\n",
    "  - [Exercises](collections.ipynb#exercises)\n",
    "- [Control Flow](control_flow.ipynb)\n",
    "  - [Net Present Values and Asset Pricing](control_flow.ipynb#net-present-values-and-asset-pricing)\n",
    "  - [Conditional Statements and Blocks](control_flow.ipynb#conditional-statements-and-blocks)\n",
    "  - [Iteration](control_flow.ipynb#iteration)\n",
    "  - [Comprehension](control_flow.ipynb#comprehension)\n",
    "  - [Exercises](control_flow.ipynb#exercises)\n",
    "- [Functions](functions.ipynb)\n",
    "  - [Application: Production Functions](functions.ipynb#application-production-functions)\n",
    "  - [What are (Python) Functions?](functions.ipynb#what-are-python-functions)\n",
    "  - [How to Define (Python) Functions?](functions.ipynb#how-to-define-python-functions)\n",
    "  - [More on Scope (Optional)](functions.ipynb#more-on-scope-optional)\n",
    "  - [Exercises](functions.ipynb#exercises)"
   ]
  }
 ],
 "metadata": {
  "date": 1579028399.776933,
  "download_nb": false,
  "filename": "index.rst",
  "filename_with_path": "python_fundamentals/index",
  "kernelspec": {
   "display_name": "Python",
   "language": "python3",
   "name": "python3"
  },
  "language_info": {
   "codemirror_mode": {
    "name": "ipython",
    "version": 3
   },
   "file_extension": ".py",
   "mimetype": "text/x-python",
   "name": "python",
   "nbconvert_exporter": "python",
   "pygments_lexer": "ipython3",
   "version": "3.7.3"
  },
  "title": "Python Fundamentals"
 },
 "nbformat": 4,
 "nbformat_minor": 2
}
