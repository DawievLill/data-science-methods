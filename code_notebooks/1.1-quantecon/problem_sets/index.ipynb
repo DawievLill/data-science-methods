{
 "cells": [
  {
   "cell_type": "markdown",
   "metadata": {},
   "source": [
    "# Problem Sets\n",
    "\n",
    "Here are problem sets to check your understanding of the course material.\n",
    "\n",
    "<div class=\"toctree\">\n",
    "\n",
    "- [Problem Set 1](problem_set_1.ipynb)\n",
    "- [Problem Set 2](problem_set_2.ipynb)\n",
    "- [Problem Set 3](problem_set_3.ipynb)\n",
    "- [Problem Set 4](problem_set_4.ipynb)\n",
    "- [Problem Set 5](problem_set_5.ipynb)\n",
    "- [Problem Set 6](problem_set_6.ipynb)\n",
    "- [Problem Set 7](problem_set_7.ipynb)\n",
    "- [Problem Set 8](problem_set_8.ipynb)"
   ]
  }
 ],
 "metadata": {
  "date": 1579028398.3343284,
  "download_nb": false,
  "filename": "index.rst",
  "filename_with_path": "problem_sets/index",
  "kernelspec": {
   "display_name": "Python",
   "language": "python3",
   "name": "python3"
  },
  "language_info": {
   "codemirror_mode": {
    "name": "ipython",
    "version": 3
   },
   "file_extension": ".py",
   "mimetype": "text/x-python",
   "name": "python",
   "nbconvert_exporter": "python",
   "pygments_lexer": "ipython3",
   "version": "3.7.3"
  },
  "title": "Problem Sets"
 },
 "nbformat": 4,
 "nbformat_minor": 2
}
