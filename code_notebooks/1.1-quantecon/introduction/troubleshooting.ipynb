{
 "cells": [
  {
   "cell_type": "markdown",
   "metadata": {},
   "source": [
    "\n",
    "<a id='troubleshooting'></a>"
   ]
  },
  {
   "cell_type": "markdown",
   "metadata": {},
   "source": [
    "# Troubleshooting"
   ]
  },
  {
   "cell_type": "markdown",
   "metadata": {},
   "source": [
    "## Contents\n",
    "\n",
    "- [Troubleshooting](#Troubleshooting)  \n",
    "  - [Resetting Lectures](#Resetting-Lectures)  \n",
    "  - [Reporting an Issue](#Reporting-an-Issue)  "
   ]
  },
  {
   "cell_type": "markdown",
   "metadata": {},
   "source": [
    "This troubleshooting page is to help ensure your environment is setup correctly\n",
    "to run this lecture. You can follow [cloud setup instructions](https://datascience.quantecon.org/introduction/cloud_setup.html) or [local setup instructions](https://datascience.quantecon.org/introduction/local_install.html) to set up a standard environment."
   ]
  },
  {
   "cell_type": "markdown",
   "metadata": {},
   "source": [
    "## Resetting Lectures\n",
    "\n",
    "Here are instructions to restore some or all lectures to their original states."
   ]
  },
  {
   "cell_type": "markdown",
   "metadata": {},
   "source": [
    "### Hubs\n",
    "\n",
    "To refresh a **single** notebook:\n",
    "\n",
    "1. Open the lecture folder in the JupyterHub where it’s installed (e.g., the [PIMS Syzygy](https://quantecon.syzygy.ca) server.)  \n",
    "1. Navigate to the lecture in question (i.e., by double-clicking on the folder for that section), and delete it by right-clicking.  \n",
    "1. Go back to the [lectures website](https://datascience.quantecon.org), navigate to the page for that lecture.  \n",
    "1. Make sure the settings wheel next to the launch bar is pointing at the right hub, and click the link again. This will repopulate the file freshly from the server.  \n",
    "\n",
    "\n",
    "Otherwise, follow these steps:\n",
    "\n",
    "1. Open the lecture folder in the JupyterHub where it’s installed (e.g., the [PIMS Syzygy](https://pims.syzygy.ca) server.)  \n",
    "1. Close all open lectures by clicking the `x` in their tabs.  \n",
    "1. Open the `utilities.ipynb` notebook (which is in the top level of the repository, outside folders like `introduction`)  \n",
    "1. To **completely reset** your lectures to the latest from the server, run the second cell. This will **also delete** any additional files you have added  \n",
    "1. To **update** files you haven’t changed, run the first cell. This will **also pull** any new files that we have added to the GitHub repository (e.g., new lectures.)  "
   ]
  },
  {
   "cell_type": "markdown",
   "metadata": {},
   "source": [
    "### Local Machines\n",
    "\n",
    "The workflow is a bit different on a local machine. We are assuming that you have followed the [local setup instructions](https://datascience.quantecon.org/introduction/local_install.html), and have installed GitHub desktop.\n",
    "\n",
    "1. Open GitHub desktop, and navigate to the repository (you can click “find” under “edit” in the top menu bar, and then type `quantecon-notebooks-datascience`, if you are having trouble.)  \n",
    "1. To **reset everything**, click “discard all changes” under “branch” in the top menu bar.  \n",
    "1. To **reset a specific notebook**, right-click the specific file in the changes side tab, and then click “discard changes.”  \n",
    "1. To **pull the latest from the server**, first make sure you don’t have any conflicting changes (i.e., do step (2) above), and then click “pull” under “repository” in the top menu bar.  "
   ]
  },
  {
   "cell_type": "markdown",
   "metadata": {},
   "source": [
    "## Reporting an Issue\n",
    "\n",
    "One way to give feedback is to raise an issue through our [issue tracker](https://github.com/QuantEcon/quantecon-notebooks-datascience/issues).\n",
    "\n",
    "Please be as specific as possible. Tell us where the problem is and as much\n",
    "detail about your local set up as you can provide.\n",
    "\n",
    "Another feedback option is to use our [discourse forum](https://discourse.quantecon.org/).\n",
    "\n",
    "Finally, you can provide direct feedback to [contact@quantecon.org](mailto:contact@quantecon.org)"
   ]
  }
 ],
 "metadata": {
  "date": 1579028396.6107585,
  "download_nb": false,
  "filename": "troubleshooting.rst",
  "filename_with_path": "introduction/troubleshooting",
  "kernelspec": {
   "display_name": "Python",
   "language": "python3",
   "name": "python3"
  },
  "language_info": {
   "codemirror_mode": {
    "name": "ipython",
    "version": 3
   },
   "file_extension": ".py",
   "mimetype": "text/x-python",
   "name": "python",
   "nbconvert_exporter": "python",
   "pygments_lexer": "ipython3",
   "version": "3.7.3"
  },
  "title": "Troubleshooting"
 },
 "nbformat": 4,
 "nbformat_minor": 2
}
